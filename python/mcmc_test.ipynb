{
 "cells": [
  {
   "cell_type": "code",
   "execution_count": 3,
   "metadata": {},
   "outputs": [],
   "source": [
    "import numpy as np"
   ]
  },
  {
   "cell_type": "code",
   "execution_count": 7,
   "metadata": {},
   "outputs": [],
   "source": [
    "def metropolis_hastings(x_init, samples, proposal, acceptance):\n",
    "    \"\"\" Algorithm 27.3 Metropolis-Hastings MCMC sampling from\n",
    "    David Barber's Bayesian Reasoning and Machine Learning\n",
    "\n",
    "    :param x_init: array-like or int, float\n",
    "        The initial state.\n",
    "    :param samples: int\n",
    "        The number of samples to take.\n",
    "    :param proposal: callable(x)\n",
    "        The proposal distribution function.\n",
    "    :param acceptance: callable(x, x_prime)\n",
    "        The acceptance distribution function.\n",
    "    :return: numpy.ndarray\n",
    "        The samples taken.\n",
    "        If x_init is a int or float a 1 dimensional array will be returned.\n",
    "        If x_init is a numpy.ndarray or list a 2 dimensional array will be\n",
    "            returned. The fist dimension contains the samples, and the\n",
    "            second each element of all the sampled states.\n",
    "    \"\"\"\n",
    "\n",
    "    # initialize array to store samples\n",
    "    if isinstance(x_init, np.ndarray):\n",
    "\n",
    "        if x_init.ndim > 1:\n",
    "            raise Exception('x_init must be a one dimensional array')\n",
    "\n",
    "        n = x_init.shape[0]\n",
    "\n",
    "        x = np.array((samples, n), dtype=np.float64)\n",
    "\n",
    "    elif isinstance(x_init, list):\n",
    "\n",
    "        n = len(x_init)\n",
    "\n",
    "        x = np.array((samples, n), dtype=np.float64)\n",
    "\n",
    "    elif isinstance(x_init, (int, float)):\n",
    "\n",
    "        x = np.array(samples, dtype=np.float64)\n",
    "\n",
    "    else:\n",
    "\n",
    "        raise Exception('x_init must be a numeric type, list, or numpy.ndarray')\n",
    "\n",
    "    x[0] = x_init  # set x0\n",
    "\n",
    "    for l in range(1, samples):\n",
    "\n",
    "        x_cand = proposal(x[l - 1])  # generate a random candidate state with the given the proposal function\n",
    "\n",
    "        a = acceptance(x[l - 1], x_cand)  # Calculate the acceptance probability\n",
    "\n",
    "        if a >= 1:\n",
    "\n",
    "            x[l] = x_cand\n",
    "\n",
    "        else:\n",
    "\n",
    "            u = np.random.uniform(0, 1)  # draw a random value u uniformly from the unit interval [0, 1]\n",
    "\n",
    "            if u < a:\n",
    "\n",
    "                x[l] = x_cand\n",
    "\n",
    "            else:\n",
    "\n",
    "                x[l] = x[l - 1]\n",
    "\n",
    "    return x  # return samples"
   ]
  },
  {
   "cell_type": "code",
   "execution_count": null,
   "metadata": {},
   "outputs": [],
   "source": []
  }
 ],
 "metadata": {
  "kernelspec": {
   "display_name": "Python 3",
   "language": "python",
   "name": "python3"
  },
  "language_info": {
   "codemirror_mode": {
    "name": "ipython",
    "version": 3
   },
   "file_extension": ".py",
   "mimetype": "text/x-python",
   "name": "python",
   "nbconvert_exporter": "python",
   "pygments_lexer": "ipython3",
   "version": "3.8.5"
  }
 },
 "nbformat": 4,
 "nbformat_minor": 4
}